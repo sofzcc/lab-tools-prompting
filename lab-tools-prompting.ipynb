{
  "cells": [
    {
      "cell_type": "markdown",
      "id": "77f66dbe-192b-471c-9cb8-e9b365e61bbb",
      "metadata": {
        "id": "77f66dbe-192b-471c-9cb8-e9b365e61bbb"
      },
      "source": [
        "# Lab | Tools prompting\n",
        "\n",
        "**Replace the existing two tools decorators, by creating 3 new ones and adjust the prompts accordingly**"
      ]
    },
    {
      "cell_type": "markdown",
      "id": "14b94240",
      "metadata": {
        "id": "14b94240"
      },
      "source": [
        "### How to add ad-hoc tool calling capability to LLMs and Chat Models\n",
        "\n",
        ":::{.callout-caution}\n",
        "\n",
        "Some models have been fine-tuned for tool calling and provide a dedicated API for tool calling. Generally, such models are better at tool calling than non-fine-tuned models, and are recommended for use cases that require tool calling. Please see the [how to use a chat model to call tools](/docs/how_to/tool_calling) guide for more information.\n",
        "\n",
        "In this guide, we'll see how to add **ad-hoc** tool calling support to a chat model. This is an alternative method to invoke tools if you're using a model that does not natively support tool calling.\n",
        "\n",
        "We'll do this by simply writing a prompt that will get the model to invoke the appropriate tools. Here's a diagram of the logic:\n",
        "\n",
        "<br>\n",
        "\n",
        "![chain](https://education-team-2020.s3.eu-west-1.amazonaws.com/ai-eng/tool_chain.svg)"
      ]
    },
    {
      "cell_type": "markdown",
      "id": "a0a22cb8-19e7-450a-9d1b-6848d2c81cd1",
      "metadata": {
        "id": "a0a22cb8-19e7-450a-9d1b-6848d2c81cd1"
      },
      "source": [
        "## Setup\n",
        "\n",
        "We'll need to install the following packages:"
      ]
    },
    {
      "cell_type": "code",
      "execution_count": 1,
      "id": "8c556c5e-b785-428b-8e7d-efd34a2a1adb",
      "metadata": {
        "collapsed": true,
        "id": "8c556c5e-b785-428b-8e7d-efd34a2a1adb",
        "colab": {
          "base_uri": "https://localhost:8080/"
        },
        "outputId": "6fc8b743-326e-426c-f182-47f7a45c163f"
      },
      "outputs": [
        {
          "output_type": "stream",
          "name": "stdout",
          "text": [
            "\u001b[2K     \u001b[90m━━━━━━━━━━━━━━━━━━━━━━━━━━━━━━━━━━━━━━━━\u001b[0m \u001b[32m975.5/975.5 kB\u001b[0m \u001b[31m24.2 MB/s\u001b[0m eta \u001b[36m0:00:00\u001b[0m\n",
            "\u001b[2K     \u001b[90m━━━━━━━━━━━━━━━━━━━━━━━━━━━━━━━━━━━━━━━━\u001b[0m \u001b[32m2.2/2.2 MB\u001b[0m \u001b[31m69.1 MB/s\u001b[0m eta \u001b[36m0:00:00\u001b[0m\n",
            "\u001b[2K     \u001b[90m━━━━━━━━━━━━━━━━━━━━━━━━━━━━━━━━━━━━━━━━\u001b[0m \u001b[32m337.4/337.4 kB\u001b[0m \u001b[31m33.0 MB/s\u001b[0m eta \u001b[36m0:00:00\u001b[0m\n",
            "\u001b[2K     \u001b[90m━━━━━━━━━━━━━━━━━━━━━━━━━━━━━━━━━━━━━━━━\u001b[0m \u001b[32m127.5/127.5 kB\u001b[0m \u001b[31m10.1 MB/s\u001b[0m eta \u001b[36m0:00:00\u001b[0m\n",
            "\u001b[2K     \u001b[90m━━━━━━━━━━━━━━━━━━━━━━━━━━━━━━━━━━━━━━━━\u001b[0m \u001b[32m49.2/49.2 kB\u001b[0m \u001b[31m5.1 MB/s\u001b[0m eta \u001b[36m0:00:00\u001b[0m\n",
            "\u001b[2K     \u001b[90m━━━━━━━━━━━━━━━━━━━━━━━━━━━━━━━━━━━━━━━━\u001b[0m \u001b[32m141.1/141.1 kB\u001b[0m \u001b[31m7.9 MB/s\u001b[0m eta \u001b[36m0:00:00\u001b[0m\n",
            "\u001b[?25h"
          ]
        }
      ],
      "source": [
        "%pip install --upgrade --quiet langchain langchain-community"
      ]
    },
    {
      "cell_type": "code",
      "source": [
        "!pip install --quiet langchain_core"
      ],
      "metadata": {
        "collapsed": true,
        "id": "6h9yzgToOmPH"
      },
      "id": "6h9yzgToOmPH",
      "execution_count": 2,
      "outputs": []
    },
    {
      "cell_type": "code",
      "source": [
        "!pip install --quiet ollama openai"
      ],
      "metadata": {
        "colab": {
          "base_uri": "https://localhost:8080/"
        },
        "collapsed": true,
        "id": "oFoUEPKyBhXp",
        "outputId": "319a01a9-8ab6-46d4-db4a-d27afd8304df"
      },
      "id": "oFoUEPKyBhXp",
      "execution_count": 3,
      "outputs": [
        {
          "output_type": "stream",
          "name": "stdout",
          "text": [
            "\u001b[?25l     \u001b[90m━━━━━━━━━━━━━━━━━━━━━━━━━━━━━━━━━━━━━━━━\u001b[0m \u001b[32m0.0/328.3 kB\u001b[0m \u001b[31m?\u001b[0m eta \u001b[36m-:--:--\u001b[0m\r\u001b[2K     \u001b[91m━━━━━━━━━━━━━━━━━━━━━━━━━━━━━━━━━━━━━━━\u001b[0m\u001b[91m╸\u001b[0m \u001b[32m327.7/328.3 kB\u001b[0m \u001b[31m11.8 MB/s\u001b[0m eta \u001b[36m0:00:01\u001b[0m\r\u001b[2K     \u001b[90m━━━━━━━━━━━━━━━━━━━━━━━━━━━━━━━━━━━━━━━━\u001b[0m \u001b[32m328.3/328.3 kB\u001b[0m \u001b[31m9.3 MB/s\u001b[0m eta \u001b[36m0:00:00\u001b[0m\n",
            "\u001b[?25h\u001b[?25l     \u001b[90m━━━━━━━━━━━━━━━━━━━━━━━━━━━━━━━━━━━━━━━━\u001b[0m \u001b[32m0.0/75.6 kB\u001b[0m \u001b[31m?\u001b[0m eta \u001b[36m-:--:--\u001b[0m\r\u001b[2K     \u001b[90m━━━━━━━━━━━━━━━━━━━━━━━━━━━━━━━━━━━━━━━━\u001b[0m \u001b[32m75.6/75.6 kB\u001b[0m \u001b[31m11.4 MB/s\u001b[0m eta \u001b[36m0:00:00\u001b[0m\n",
            "\u001b[?25h\u001b[?25l     \u001b[90m━━━━━━━━━━━━━━━━━━━━━━━━━━━━━━━━━━━━━━━━\u001b[0m \u001b[32m0.0/77.9 kB\u001b[0m \u001b[31m?\u001b[0m eta \u001b[36m-:--:--\u001b[0m\r\u001b[2K     \u001b[90m━━━━━━━━━━━━━━━━━━━━━━━━━━━━━━━━━━━━━━━━\u001b[0m \u001b[32m77.9/77.9 kB\u001b[0m \u001b[31m11.6 MB/s\u001b[0m eta \u001b[36m0:00:00\u001b[0m\n",
            "\u001b[?25h\u001b[?25l     \u001b[90m━━━━━━━━━━━━━━━━━━━━━━━━━━━━━━━━━━━━━━━━\u001b[0m \u001b[32m0.0/58.3 kB\u001b[0m \u001b[31m?\u001b[0m eta \u001b[36m-:--:--\u001b[0m\r\u001b[2K     \u001b[90m━━━━━━━━━━━━━━━━━━━━━━━━━━━━━━━━━━━━━━━━\u001b[0m \u001b[32m58.3/58.3 kB\u001b[0m \u001b[31m8.6 MB/s\u001b[0m eta \u001b[36m0:00:00\u001b[0m\n",
            "\u001b[?25h"
          ]
        }
      ]
    },
    {
      "cell_type": "markdown",
      "id": "897bc01e-cc2b-4400-8a64-db4aa56085d3",
      "metadata": {
        "id": "897bc01e-cc2b-4400-8a64-db4aa56085d3"
      },
      "source": [
        "If you'd like to use LangSmith, uncomment the below:"
      ]
    },
    {
      "cell_type": "code",
      "execution_count": 4,
      "id": "5efb4170-b95b-4d29-8f57-09509f3ba6df",
      "metadata": {
        "colab": {
          "base_uri": "https://localhost:8080/"
        },
        "id": "5efb4170-b95b-4d29-8f57-09509f3ba6df",
        "outputId": "10dbc630-ff87-4beb-9b5c-36fc5996ddbc"
      },
      "outputs": [
        {
          "name": "stdout",
          "output_type": "stream",
          "text": [
            "··········\n"
          ]
        }
      ],
      "source": [
        "import getpass\n",
        "import os\n",
        "\n",
        "os.environ[\"LANGCHAIN_TRACING_V2\"] = \"true\"\n",
        "os.environ[\"LANGCHAIN_API_KEY\"] = getpass.getpass()"
      ]
    },
    {
      "cell_type": "markdown",
      "id": "7ec6409b-21e5-4d0a-8a46-c4ef0b055dd3",
      "metadata": {
        "id": "7ec6409b-21e5-4d0a-8a46-c4ef0b055dd3"
      },
      "source": [
        "You can select any of the given models for this how-to guide. Keep in mind that most of these models already [support native tool calling](/docs/integrations/chat/), so using the prompting strategy shown here doesn't make sense for these models, and instead you should follow the [how to use a chat model to call tools](/docs/how_to/tool_calling) guide.\n",
        "\n",
        "```{=mdx}\n",
        "import ChatModelTabs from \"@theme/ChatModelTabs\";\n",
        "\n",
        "<ChatModelTabs openaiParams={`model=\"gpt-4\"`} />\n",
        "```\n",
        "\n",
        "To illustrate the idea, we'll use `phi3` via Ollama, which does **NOT** have native support for tool calling. If you'd like to use `Ollama` as well follow [these instructions](/docs/integrations/chat/ollama/)."
      ]
    },
    {
      "cell_type": "code",
      "source": [
        "!curl -fsSL https://ollama.com/install.sh | sh\n"
      ],
      "metadata": {
        "colab": {
          "base_uri": "https://localhost:8080/"
        },
        "id": "ONNuDJJaBJ8m",
        "outputId": "244bcaea-7cbc-4c75-9f56-2ec272383995"
      },
      "id": "ONNuDJJaBJ8m",
      "execution_count": 5,
      "outputs": [
        {
          "output_type": "stream",
          "name": "stdout",
          "text": [
            ">>> Downloading ollama...\n",
            "############################################################################################# 100.0%\n",
            ">>> Installing ollama to /usr/local/bin...\n",
            ">>> Creating ollama user...\n",
            ">>> Adding ollama user to video group...\n",
            ">>> Adding current user to ollama group...\n",
            ">>> Creating ollama systemd service...\n",
            "WARNING: Unable to detect NVIDIA/AMD GPU. Install lspci or lshw to automatically detect and install GPU dependencies.\n",
            ">>> The Ollama API is now available at 127.0.0.1:11434.\n",
            ">>> Install complete. Run \"ollama\" from the command line.\n"
          ]
        }
      ]
    },
    {
      "cell_type": "code",
      "source": [
        "!rm /content/myscript.sh\n",
        "!echo '#!/bin/bash' > /content/myscript.sh\n",
        "!echo 'ollama serve' >> /content/myscript.sh\n",
        "# Make the script executable\n",
        "!chmod +x /content/myscript.sh\n",
        "!nohup /content/myscript.sh &"
      ],
      "metadata": {
        "colab": {
          "base_uri": "https://localhost:8080/"
        },
        "id": "3lImZF80BNGo",
        "outputId": "463b4f32-c2be-489b-91d3-56133559d043"
      },
      "id": "3lImZF80BNGo",
      "execution_count": 7,
      "outputs": [
        {
          "output_type": "stream",
          "name": "stdout",
          "text": [
            "nohup: appending output to 'nohup.out'\n"
          ]
        }
      ]
    },
    {
      "cell_type": "code",
      "source": [
        "# Download the model to Colab environment\n",
        "!nohup ollama pull phi3:mini > ollama_emd_model.log 2>&1 &\n",
        "\n",
        "# Start the server to run the model and interact with it\n",
        "!nohup ollama run phi3:mini > ollama_model.log 2>&1 &\n"
      ],
      "metadata": {
        "collapsed": true,
        "id": "tNj_dfJdBUgi"
      },
      "id": "tNj_dfJdBUgi",
      "execution_count": 20,
      "outputs": []
    },
    {
      "cell_type": "code",
      "source": [
        "import ollama\n",
        "\n",
        "ollama_response = ollama.chat(model='phi3:mini', messages=[\n",
        "   {\n",
        "     'role': 'system',\n",
        "     'content': 'You are a helpful assistant with sound mathematical knowledge.',\n",
        "   },\n",
        "   {\n",
        "     'role': 'user',\n",
        "     'content': 'Explain to me the Pythagorean theorem.',\n",
        "   },\n",
        "\n",
        "])\n",
        "# Printing out of the generated response\n",
        "print(ollama_response['message']['content'])"
      ],
      "metadata": {
        "colab": {
          "base_uri": "https://localhost:8080/"
        },
        "id": "GZege8UfCMC5",
        "outputId": "6085c961-1dae-48d9-f8d9-4fae0bf654f9"
      },
      "id": "GZege8UfCMC5",
      "execution_count": 12,
      "outputs": [
        {
          "output_type": "stream",
          "name": "stdout",
          "text": [
            " The Pythagorean Theorem is a fundamental principle in Euclidean geometry that states, when it comes to right-angled triangles (those having an angle of 90 degrees), there's a specific relationship between the lengths of their sides: specifically, the square of the length of the hypotenuse (the side opposite the right angle) is equal to the sum of the squares on the other two sides.\n",
            "\n",
            "Mathematically this can be represented as `a^2 + b^2 = c^2`, where 'c' represents the length of the hypotenuse, while 'a' and 'b' are the lengths of the triangle's remaining two sides. \n",
            "\n",
            "This theorem is named after the ancient Greek mathematician Pythagoras who first formulated it around the 5th century B.C., though evidence suggests that this relationship was known to cultures across various continents before him, such as the Babylonians and Indians among others. The beauty of this simple but powerful theorem lies not just in its wide-ranging applications (from physics to computer science), but also in how it connects seemingly unrelated fields by a common mathematical thread: right angles!\n"
          ]
        }
      ]
    },
    {
      "cell_type": "markdown",
      "id": "68946881",
      "metadata": {
        "id": "68946881"
      },
      "source": [
        "## Create a tool\n",
        "\n",
        "First, let's create an `add` and `multiply` tools. For more information on creating custom tools, please see [this guide](/docs/how_to/custom_tools)."
      ]
    },
    {
      "cell_type": "code",
      "execution_count": 61,
      "id": "4548e6fa-0f9b-4d7a-8fa5-66cec0350e5f",
      "metadata": {
        "colab": {
          "base_uri": "https://localhost:8080/"
        },
        "id": "4548e6fa-0f9b-4d7a-8fa5-66cec0350e5f",
        "outputId": "bf394aa2-c7e4-423c-9a49-9c23d69356c6"
      },
      "outputs": [
        {
          "output_type": "stream",
          "name": "stdout",
          "text": [
            "--\n",
            "add\n",
            "Add two numbers.\n",
            "{'x': {'title': 'X', 'type': 'integer'}, 'y': {'title': 'Y', 'type': 'integer'}}\n",
            "--\n",
            "multiply\n",
            "Multiply two numbers together.\n",
            "{'x': {'title': 'X', 'type': 'number'}, 'y': {'title': 'Y', 'type': 'number'}}\n",
            "--\n",
            "get_current_time\n",
            "Returns the current time.\n",
            "{}\n",
            "--\n",
            "calculate_area_of_rectangle\n",
            "Calculates the area of a rectangle.\n",
            "{'length': {'title': 'Length', 'type': 'number'}, 'width': {'title': 'Width', 'type': 'number'}}\n",
            "--\n",
            "get_word_count\n",
            "Counts the number of words in a string.\n",
            "{'text': {'title': 'Text', 'type': 'string'}}\n"
          ]
        }
      ],
      "source": [
        "from langchain_core.tools import tool\n",
        "\n",
        "\n",
        "@tool\n",
        "def multiply(x: float, y: float) -> float:\n",
        "    \"\"\"Multiply two numbers together.\"\"\"\n",
        "    return x * y\n",
        "\n",
        "\n",
        "@tool\n",
        "def add(x: int, y: int) -> int:\n",
        "    \"Add two numbers.\"\n",
        "    return x + y\n",
        "\n",
        "\n",
        "\n",
        "@tool\n",
        "def get_current_time() -> str:\n",
        "    \"\"\"Returns the current time.\"\"\"\n",
        "    from datetime import datetime\n",
        "    return datetime.now().strftime(\"%H:%M:%S\")\n",
        "\n",
        "@tool\n",
        "def calculate_area_of_rectangle(length: float, width: float) -> float:\n",
        "    \"\"\"Calculates the area of a rectangle.\"\"\"\n",
        "    return length * width\n",
        "\n",
        "@tool\n",
        "def get_word_count(text: str) -> int:\n",
        "    \"\"\"Counts the number of words in a string.\"\"\"\n",
        "    return len(text)\n",
        "\n",
        "tools = [add, multiply, get_current_time, calculate_area_of_rectangle, get_word_count]\n",
        "\n",
        "# Let's inspect the tools\n",
        "for t in tools:\n",
        "    print(\"--\")\n",
        "    print(t.name)\n",
        "    print(t.description)\n",
        "    print(t.args)"
      ]
    },
    {
      "cell_type": "code",
      "execution_count": 28,
      "id": "be77e780",
      "metadata": {
        "colab": {
          "base_uri": "https://localhost:8080/"
        },
        "id": "be77e780",
        "outputId": "54ab99fe-874d-46c4-ef0c-c79c4b402b16"
      },
      "outputs": [
        {
          "output_type": "execute_result",
          "data": {
            "text/plain": [
              "20.0"
            ]
          },
          "metadata": {},
          "execution_count": 28
        }
      ],
      "source": [
        "multiply.invoke({\"x\": 4, \"y\": 5})"
      ]
    },
    {
      "cell_type": "markdown",
      "id": "15dd690e-e54d-4209-91a4-181f69a452ac",
      "metadata": {
        "id": "15dd690e-e54d-4209-91a4-181f69a452ac"
      },
      "source": [
        "## Creating our prompt\n",
        "\n",
        "We'll want to write a prompt that specifies the tools the model has access to, the arguments to those tools, and the desired output format of the model. In this case we'll instruct it to output a JSON blob of the form `{\"name\": \"...\", \"arguments\": {...}}`."
      ]
    },
    {
      "cell_type": "code",
      "execution_count": 16,
      "id": "2063b564-25ca-4729-a45f-ba4633175b04",
      "metadata": {
        "colab": {
          "base_uri": "https://localhost:8080/"
        },
        "id": "2063b564-25ca-4729-a45f-ba4633175b04",
        "outputId": "380cf26c-7e93-4760-96f1-6b865c6f5fee"
      },
      "outputs": [
        {
          "output_type": "stream",
          "name": "stdout",
          "text": [
            "multiply(x: float, y: float) -> float - Multiply two numbers together.\n",
            "add(x: int, y: int) -> int - Add two numbers.\n"
          ]
        }
      ],
      "source": [
        "from langchain_core.output_parsers import JsonOutputParser\n",
        "from langchain_core.prompts import ChatPromptTemplate\n",
        "from langchain_core.tools import render_text_description\n",
        "\n",
        "rendered_tools = render_text_description(tools)\n",
        "print(rendered_tools)"
      ]
    },
    {
      "cell_type": "code",
      "source": [
        "from langchain.schema.runnable import Runnable\n",
        "import ollama\n",
        "\n",
        "class OllamaLLM(Runnable):\n",
        "    def __init__(self, model_name):\n",
        "        self.model_name = model_name\n",
        "\n",
        "    def invoke(self, input, config=None):\n",
        "        # Handle ChatPromptValue object\n",
        "        if hasattr(input, \"to_string\"):\n",
        "            user_input = input.to_string()\n",
        "        else:\n",
        "            user_input = input.get(\"input\", \"\")\n",
        "\n",
        "        response = ollama.chat(model=self.model_name, messages=[\n",
        "           {\n",
        "                \"role\": \"system\",\n",
        "                \"content\": \"\"\"\\\n",
        "            You are an assistant that has access to the following set of tools.\n",
        "            Here are the names, descriptions, and arguments for each tool:\n",
        "\n",
        "            {rendered_tools}\n",
        "\n",
        "            Given the user input, return the name and input of the tool to use. If there is no tool, use get_word_count as DEFAULT.\n",
        "            Return your response as a JSON blob with 'name' and 'arguments' keys.\n",
        "\n",
        "            The `arguments` should be a dictionary. The keys and types depend on the tool:\n",
        "            - For tools like `add` and `multiply`, provide `x` and `y` as integers or floats.\n",
        "            - For `get_current_time`, no arguments are needed.\n",
        "            - For `calculate_area_of_rectangle`, provide `length` and `width` as floats.\n",
        "            - For `get_word_count`, provide `text` as a string.\n",
        "\n",
        "            Example:\n",
        "            {\n",
        "                \"name\": \"multiply\",\n",
        "                \"arguments\": {\"x\": 3, \"y\": 5}\n",
        "            }\n",
        "            \"\"\"\n",
        "            },\n",
        "            {\n",
        "                'role': 'user',\n",
        "                'content': user_input,\n",
        "            },\n",
        "        ])\n",
        "        return response['message']['content']\n"
      ],
      "metadata": {
        "id": "LN7eU470DW5i"
      },
      "id": "LN7eU470DW5i",
      "execution_count": 63,
      "outputs": []
    },
    {
      "cell_type": "code",
      "execution_count": 64,
      "id": "f8623e03-60eb-4439-b57b-ecbcebc61b58",
      "metadata": {
        "colab": {
          "base_uri": "https://localhost:8080/"
        },
        "id": "f8623e03-60eb-4439-b57b-ecbcebc61b58",
        "outputId": "01a102af-a46a-4027-eb4e-f3904b1762f2"
      },
      "outputs": [
        {
          "output_type": "stream",
          "name": "stdout",
          "text": [
            " ```json\n",
            "{\n",
            "  \"name\": \"add\",\n",
            "  \"arguments\": {\"x\": 3, \"y\": 1132}\n",
            "}\n",
            "```\n"
          ]
        }
      ],
      "source": [
        "from langchain.prompts import ChatPromptTemplate\n",
        "\n",
        "prompt = ChatPromptTemplate.from_template(\n",
        "    \"\"\"\n",
        "User input: {input}\n",
        "\n",
        "Example: \"input\": \"what's 3 plus 5\"\n",
        "\n",
        "\"\"\"\n",
        ")\n",
        "\n",
        "# Instantiate the OllamaLLM with the desired model name\n",
        "model = OllamaLLM(model_name='phi3:mini')\n",
        "\n",
        "chain = prompt | model\n",
        "message = chain.invoke({\"input\": \"what's 3 plus 1132\"})\n",
        "\n",
        "# Let's take a look at the output from the model\n",
        "# if the model is an LLM (not a chat model), the output will be a string.\n",
        "if isinstance(message, str):\n",
        "    print(message)\n",
        "else:  # Otherwise it's a chat model\n",
        "    print(message.content)"
      ]
    },
    {
      "cell_type": "markdown",
      "id": "14df2cd5-b6fa-4b10-892d-e8692c7931e5",
      "metadata": {
        "id": "14df2cd5-b6fa-4b10-892d-e8692c7931e5"
      },
      "source": [
        "## Adding an output parser\n",
        "\n",
        "We'll use the `JsonOutputParser` for parsing our models output to JSON."
      ]
    },
    {
      "cell_type": "code",
      "execution_count": 50,
      "id": "f129f5bd-127c-4c95-8f34-8f437da7ca8f",
      "metadata": {
        "colab": {
          "base_uri": "https://localhost:8080/"
        },
        "id": "f129f5bd-127c-4c95-8f34-8f437da7ca8f",
        "outputId": "4110ce7c-b6dc-4a0f-d78c-ce6ddea4d435"
      },
      "outputs": [
        {
          "output_type": "execute_result",
          "data": {
            "text/plain": [
              "{'name': 'multiply', 'arguments': {'x': 13, 'y': 4}}"
            ]
          },
          "metadata": {},
          "execution_count": 50
        }
      ],
      "source": [
        "from langchain_core.output_parsers import JsonOutputParser\n",
        "\n",
        "chain = prompt | model | JsonOutputParser()\n",
        "result = chain.invoke({\"input\": \"what's thirteen times 4\"})\n",
        "result"
      ]
    },
    {
      "cell_type": "code",
      "source": [
        "chain = prompt | model | JsonOutputParser()\n",
        "result = chain.invoke({\"input\": \"what's the current time?\"})\n",
        "result"
      ],
      "metadata": {
        "id": "IzGiUfXcdySH",
        "outputId": "439b6375-a12a-4826-f042-27ec68769561",
        "colab": {
          "base_uri": "https://localhost:8080/"
        }
      },
      "id": "IzGiUfXcdySH",
      "execution_count": 51,
      "outputs": [
        {
          "output_type": "execute_result",
          "data": {
            "text/plain": [
              "{'name': 'get_current_time', 'arguments': {}}"
            ]
          },
          "metadata": {},
          "execution_count": 51
        }
      ]
    },
    {
      "cell_type": "code",
      "source": [
        "chain = prompt | model | JsonOutputParser()\n",
        "result = chain.invoke({\"input\": \"What's the are of a rectangle with sides of 6 and 4?\"})\n",
        "result"
      ],
      "metadata": {
        "id": "sapWxc6Pd5QZ",
        "outputId": "bd9f9c7d-d036-4842-cad6-618f7a185dc6",
        "colab": {
          "base_uri": "https://localhost:8080/"
        }
      },
      "id": "sapWxc6Pd5QZ",
      "execution_count": 52,
      "outputs": [
        {
          "output_type": "execute_result",
          "data": {
            "text/plain": [
              "{'name': 'calculate_area_of_rectangle',\n",
              " 'arguments': {'length': 6.0, 'width': 4.0}}"
            ]
          },
          "metadata": {},
          "execution_count": 52
        }
      ]
    },
    {
      "cell_type": "markdown",
      "id": "e1f08255-f146-4f4a-be43-5c21c1d3ae83",
      "metadata": {
        "id": "e1f08255-f146-4f4a-be43-5c21c1d3ae83"
      },
      "source": [
        ":::{.callout-important}\n",
        "\n",
        "🎉 Amazing! 🎉 We now instructed our model on how to **request** that a tool be invoked.\n",
        "\n",
        "Now, let's create some logic to actually run the tool!\n",
        ":::"
      ]
    },
    {
      "cell_type": "markdown",
      "id": "8e29dd4c-8eb5-457f-92d1-8add076404dc",
      "metadata": {
        "id": "8e29dd4c-8eb5-457f-92d1-8add076404dc"
      },
      "source": [
        "## Invoking the tool 🏃\n",
        "\n",
        "Now that the model can request that a tool be invoked, we need to write a function that can actually invoke\n",
        "the tool.\n",
        "\n",
        "The function will select the appropriate tool by name, and pass to it the arguments chosen by the model."
      ]
    },
    {
      "cell_type": "code",
      "execution_count": 66,
      "id": "faee95e0-4095-4310-991f-9e9465c6738e",
      "metadata": {
        "id": "faee95e0-4095-4310-991f-9e9465c6738e"
      },
      "outputs": [],
      "source": [
        "from typing import Any, Dict, Optional, TypedDict\n",
        "\n",
        "from langchain_core.runnables import RunnableConfig\n",
        "\n",
        "\n",
        "class ToolCallRequest(TypedDict):\n",
        "    \"\"\"A typed dict that shows the inputs into the invoke_tool function.\"\"\"\n",
        "\n",
        "    name: str\n",
        "    arguments: Dict[str, Any]\n",
        "\n",
        "\n",
        "def invoke_tool(\n",
        "    tool_call_request: ToolCallRequest, config: Optional[RunnableConfig] = None\n",
        "):\n",
        "    \"\"\"A function that we can use the perform a tool invocation.\n",
        "\n",
        "    Args:\n",
        "        tool_call_request: a dict that contains the keys name and arguments.\n",
        "            The name must match the name of a tool that exists.\n",
        "            The arguments are the arguments to that tool.\n",
        "        config: This is configuration information that LangChain uses that contains\n",
        "            things like callbacks, metadata, etc.See LCEL documentation about RunnableConfig.\n",
        "\n",
        "    Returns:\n",
        "        output from the requested tool\n",
        "    \"\"\"\n",
        "    tool_name_to_tool = {tool.name: tool for tool in tools}\n",
        "    name = tool_call_request[\"name\"]\n",
        "    requested_tool = tool_name_to_tool[name]\n",
        "    return requested_tool.invoke(tool_call_request[\"arguments\"], config=config)"
      ]
    },
    {
      "cell_type": "markdown",
      "id": "f4957532-9e0c-47f6-bb62-0fd789ac1d3e",
      "metadata": {
        "id": "f4957532-9e0c-47f6-bb62-0fd789ac1d3e"
      },
      "source": [
        "Let's test this out 🧪!"
      ]
    },
    {
      "cell_type": "code",
      "execution_count": 54,
      "id": "d0ea3b2a-8fb2-4016-83c8-a5d3e78fedbc",
      "metadata": {
        "colab": {
          "base_uri": "https://localhost:8080/"
        },
        "id": "d0ea3b2a-8fb2-4016-83c8-a5d3e78fedbc",
        "outputId": "435d3ea6-208a-4015-dc46-48b14e5dffdf"
      },
      "outputs": [
        {
          "output_type": "execute_result",
          "data": {
            "text/plain": [
              "15.0"
            ]
          },
          "metadata": {},
          "execution_count": 54
        }
      ],
      "source": [
        "invoke_tool({\"name\": \"multiply\", \"arguments\": {\"x\": 3, \"y\": 5}})"
      ]
    },
    {
      "cell_type": "code",
      "source": [
        "invoke_tool(result)"
      ],
      "metadata": {
        "id": "mfbp40J-Svzb",
        "outputId": "ab3a6dda-f27f-435f-8c6c-f7924a0693e8",
        "colab": {
          "base_uri": "https://localhost:8080/"
        }
      },
      "id": "mfbp40J-Svzb",
      "execution_count": 55,
      "outputs": [
        {
          "output_type": "execute_result",
          "data": {
            "text/plain": [
              "24.0"
            ]
          },
          "metadata": {},
          "execution_count": 55
        }
      ]
    },
    {
      "cell_type": "code",
      "source": [
        "# Get Current Time\n",
        "print(\"Current Time: \", invoke_tool({\"name\": \"get_current_time\", \"arguments\": {}}))  # Output: Current time (e.g., \"15:30:22\")\n",
        "\n",
        "# Calculate Area of Rectangle\n",
        "print(\"Area of Rectangle: \", invoke_tool({\"name\": \"calculate_area_of_rectangle\", \"arguments\": {\"length\": 4, \"width\": 6}}))  # Output: 24\n",
        "\n",
        "# Get Word Count\n",
        "print(\"Word Count: \", invoke_tool({\"name\": \"get_word_count\", \"arguments\": {\"text\": \"This is a sentence.\"}}))  # Output: 5"
      ],
      "metadata": {
        "id": "4toAnNxSeJtL",
        "outputId": "c5428300-ba2d-488f-87d5-85e544f27660",
        "colab": {
          "base_uri": "https://localhost:8080/"
        }
      },
      "id": "4toAnNxSeJtL",
      "execution_count": 56,
      "outputs": [
        {
          "output_type": "stream",
          "name": "stdout",
          "text": [
            "Current Time:  16:06:59\n",
            "Area of Rectangle:  24.0\n",
            "Word Count:  4\n"
          ]
        }
      ]
    },
    {
      "cell_type": "markdown",
      "id": "715af6e1-935d-4bc0-a3d2-646ecf8a329b",
      "metadata": {
        "id": "715af6e1-935d-4bc0-a3d2-646ecf8a329b"
      },
      "source": [
        "## Let's put it together\n",
        "\n",
        "Let's put it together into a chain that creates a calculator with add and multiplication capabilities."
      ]
    },
    {
      "cell_type": "code",
      "execution_count": 57,
      "id": "0555b384-fde6-4404-86e0-7ea199003d58",
      "metadata": {
        "colab": {
          "base_uri": "https://localhost:8080/"
        },
        "id": "0555b384-fde6-4404-86e0-7ea199003d58",
        "outputId": "26c2017c-e3fd-4dd9-f05e-b941989a9f19"
      },
      "outputs": [
        {
          "output_type": "execute_result",
          "data": {
            "text/plain": [
              "53.83784653"
            ]
          },
          "metadata": {},
          "execution_count": 57
        }
      ],
      "source": [
        "chain = prompt | model | JsonOutputParser() | invoke_tool\n",
        "chain.invoke({\"input\": \"what's thirteen times 4.14137281\"})\n"
      ]
    },
    {
      "cell_type": "markdown",
      "id": "b4a9c5aa-f60a-4017-af6f-1ff6e04bfb61",
      "metadata": {
        "id": "b4a9c5aa-f60a-4017-af6f-1ff6e04bfb61"
      },
      "source": [
        "## Returning tool inputs\n",
        "\n",
        "It can be helpful to return not only tool outputs but also tool inputs. We can easily do this with LCEL by `RunnablePassthrough.assign`-ing the tool output. This will take whatever the input is to the RunnablePassrthrough components (assumed to be a dictionary) and add a key to it while still passing through everything that's currently in the input:"
      ]
    },
    {
      "cell_type": "code",
      "execution_count": 58,
      "id": "45404406-859d-4caa-8b9d-5838162c80a0",
      "metadata": {
        "colab": {
          "base_uri": "https://localhost:8080/"
        },
        "id": "45404406-859d-4caa-8b9d-5838162c80a0",
        "outputId": "142f512f-b23a-469d-9586-fa5534146f79"
      },
      "outputs": [
        {
          "output_type": "execute_result",
          "data": {
            "text/plain": [
              "{'name': 'multiply',\n",
              " 'arguments': {'x': 13, 'y': 4.14137281},\n",
              " 'output': 53.83784653}"
            ]
          },
          "metadata": {},
          "execution_count": 58
        }
      ],
      "source": [
        "from langchain_core.runnables import RunnablePassthrough\n",
        "\n",
        "chain = (\n",
        "    prompt | model | JsonOutputParser() | RunnablePassthrough.assign(output=invoke_tool)\n",
        ")\n",
        "\n",
        "chain.invoke({\"input\": \"what's thirteen times 4.14137281\"})"
      ]
    },
    {
      "cell_type": "code",
      "source": [
        "# Get Current Time\n",
        "print(\"Current Time: \", chain.invoke({\"input\": \"what's the current time?\"}))\n",
        "\n",
        "# Calculate Area of Rectangle\n",
        "print(\"Area of Rectangle: \", chain.invoke({\"input\": \"What's the are of a rectangle with sides of 6 and 4?\"}))\n",
        "\n",
        "# Get Word Count\n",
        "print(\"Word Count: \", chain.invoke({\"input\": \"Count the words in this sentence\"}))"
      ],
      "metadata": {
        "id": "5hCYw-Tfec_e",
        "outputId": "9e37a160-bda0-47c7-9f0b-ff4fe4bfb1a2",
        "colab": {
          "base_uri": "https://localhost:8080/"
        }
      },
      "id": "5hCYw-Tfec_e",
      "execution_count": 59,
      "outputs": [
        {
          "output_type": "stream",
          "name": "stdout",
          "text": [
            "Current Time:  {'name': 'get_current_time', 'arguments': {}, 'output': '16:07:13'}\n",
            "Area of Rectangle:  {'name': 'calculate_area_of_rectangle', 'arguments': {'length': 6, 'width': 4}, 'output': 24.0}\n",
            "Word Count:  {'name': 'get_word_count', 'arguments': {'text': 'Count the words in this sentence.'}, 'output': 6}\n"
          ]
        }
      ]
    },
    {
      "cell_type": "code",
      "source": [
        "chain_2 = prompt | model | JsonOutputParser() | invoke_tool\n",
        "\n",
        "# Get Current Time\n",
        "print(\"Current Time: \", chain_2.invoke({\"input\": \"what's the current time?\"}))\n",
        "\n",
        "# Calculate Area of Rectangle\n",
        "print(\"Area of Rectangle: \", chain_2.invoke({\"input\": \"What's the are of a rectangle with sides of 6 and 4?\"}))\n",
        "\n",
        "# Get Word Count\n",
        "print(\"Word Count: \", chain_2.invoke({\"input\": \"Discuss the importance of tools in modern technology and innovation. How do tools empower individuals and industries alike? Explore the evolution of tools from simple implements to advanced technological aids. Consider examples from different fields such as construction, medicine, software development, and creative arts. Highlight the role of tools in improving efficiency, creativity, and problem-solving capabilities in today's world.\"}))"
      ],
      "metadata": {
        "id": "04x5eXLxfRtU",
        "outputId": "92c2cbff-7b6b-4ed9-e6a6-020d1fa5c7f7",
        "colab": {
          "base_uri": "https://localhost:8080/"
        }
      },
      "id": "04x5eXLxfRtU",
      "execution_count": 65,
      "outputs": [
        {
          "output_type": "stream",
          "name": "stdout",
          "text": [
            "Current Time:  16:09:24\n",
            "Area of Rectangle:  24.0\n",
            "Word Count:  8\n"
          ]
        }
      ]
    },
    {
      "cell_type": "markdown",
      "id": "1797fe82-ea35-4cba-834a-1caf9740d184",
      "metadata": {
        "id": "1797fe82-ea35-4cba-834a-1caf9740d184"
      },
      "source": [
        "## What's next?\n",
        "\n",
        "This how-to guide shows the \"happy path\" when the model correctly outputs all the required tool information.\n",
        "\n",
        "In reality, if you're using more complex tools, you will start encountering errors from the model, especially for models that have not been fine tuned for tool calling and for less capable models.\n",
        "\n",
        "You will need to be prepared to add strategies to improve the output from the model; e.g.,\n",
        "\n",
        "1. Provide few shot examples.\n",
        "2. Add error handling (e.g., catch the exception and feed it back to the LLM to ask it to correct its previous output)."
      ]
    }
  ],
  "metadata": {
    "kernelspec": {
      "display_name": "Python 3",
      "name": "python3"
    },
    "language_info": {
      "codemirror_mode": {
        "name": "ipython",
        "version": 3
      },
      "file_extension": ".py",
      "mimetype": "text/x-python",
      "name": "python",
      "nbconvert_exporter": "python",
      "pygments_lexer": "ipython3",
      "version": "3.11.8"
    },
    "colab": {
      "provenance": [],
      "machine_shape": "hm",
      "gpuType": "T4"
    },
    "accelerator": "GPU"
  },
  "nbformat": 4,
  "nbformat_minor": 5
}